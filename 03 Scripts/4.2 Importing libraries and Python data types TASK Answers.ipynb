{
 "cells": [
  {
   "cell_type": "markdown",
   "id": "3ae29c9e",
   "metadata": {},
   "source": [
    "# 01. Importing Libraries"
   ]
  },
  {
   "cell_type": "code",
   "execution_count": 1,
   "id": "3e6acac0",
   "metadata": {},
   "outputs": [],
   "source": [
    "# Import libraries                  \n",
    "import pandas as pd\n",
    "import numpy as np\n",
    "import os"
   ]
  },
  {
   "cell_type": "markdown",
   "id": "fe85952f",
   "metadata": {},
   "source": [
    "# 0.2 Python Data Types"
   ]
  },
  {
   "cell_type": "markdown",
   "id": "9f86fac7",
   "metadata": {},
   "source": [
    "## 4.2 Q.7"
   ]
  },
  {
   "cell_type": "code",
   "execution_count": 2,
   "id": "9294ea14",
   "metadata": {},
   "outputs": [],
   "source": [
    "a = 40"
   ]
  },
  {
   "cell_type": "code",
   "execution_count": 3,
   "id": "cc297214",
   "metadata": {},
   "outputs": [],
   "source": [
    "b = 60"
   ]
  },
  {
   "cell_type": "code",
   "execution_count": 5,
   "id": "28885725",
   "metadata": {},
   "outputs": [
    {
     "data": {
      "text/plain": [
       "100"
      ]
     },
     "execution_count": 5,
     "metadata": {},
     "output_type": "execute_result"
    }
   ],
   "source": [
    "a + b"
   ]
  },
  {
   "cell_type": "code",
   "execution_count": 6,
   "id": "8eddd17a",
   "metadata": {
    "scrolled": true
   },
   "outputs": [
    {
     "data": {
      "text/plain": [
       "100"
      ]
     },
     "execution_count": 6,
     "metadata": {},
     "output_type": "execute_result"
    }
   ],
   "source": [
    "a*2 +20"
   ]
  },
  {
   "cell_type": "code",
   "execution_count": 19,
   "id": "7355744d",
   "metadata": {},
   "outputs": [],
   "source": [
    "a = a + 100"
   ]
  },
  {
   "cell_type": "code",
   "execution_count": 20,
   "id": "90f07bb9",
   "metadata": {},
   "outputs": [
    {
     "name": "stdout",
     "output_type": "stream",
     "text": [
      "140\n"
     ]
    }
   ],
   "source": [
    "print (a)"
   ]
  },
  {
   "cell_type": "code",
   "execution_count": 21,
   "id": "4ac78bcf",
   "metadata": {},
   "outputs": [
    {
     "data": {
      "text/plain": [
       "100"
      ]
     },
     "execution_count": 21,
     "metadata": {},
     "output_type": "execute_result"
    }
   ],
   "source": [
    "a - 40"
   ]
  },
  {
   "cell_type": "markdown",
   "id": "7c09b2e9",
   "metadata": {},
   "source": [
    "## 4.2 Q.8"
   ]
  },
  {
   "cell_type": "code",
   "execution_count": 23,
   "id": "288b5ea4",
   "metadata": {},
   "outputs": [],
   "source": [
    "c = 3.14"
   ]
  },
  {
   "cell_type": "code",
   "execution_count": 24,
   "id": "569c4510",
   "metadata": {},
   "outputs": [],
   "source": [
    "d = 6.28"
   ]
  },
  {
   "cell_type": "code",
   "execution_count": 25,
   "id": "242f805f",
   "metadata": {
    "scrolled": true
   },
   "outputs": [
    {
     "data": {
      "text/plain": [
       "2.0"
      ]
     },
     "execution_count": 25,
     "metadata": {},
     "output_type": "execute_result"
    }
   ],
   "source": [
    "d/c"
   ]
  },
  {
   "cell_type": "code",
   "execution_count": 27,
   "id": "95e7656d",
   "metadata": {},
   "outputs": [
    {
     "data": {
      "text/plain": [
       "float"
      ]
     },
     "execution_count": 27,
     "metadata": {},
     "output_type": "execute_result"
    }
   ],
   "source": [
    "type (d/c)"
   ]
  },
  {
   "cell_type": "markdown",
   "id": "3ac9657e",
   "metadata": {},
   "source": [
    "## 4.2 Q.9"
   ]
  },
  {
   "cell_type": "code",
   "execution_count": 28,
   "id": "2037466a",
   "metadata": {},
   "outputs": [],
   "source": [
    "d = 'd'"
   ]
  },
  {
   "cell_type": "code",
   "execution_count": 29,
   "id": "6c2b400d",
   "metadata": {},
   "outputs": [],
   "source": [
    "o = 'o'"
   ]
  },
  {
   "cell_type": "code",
   "execution_count": 30,
   "id": "3fbd3636",
   "metadata": {},
   "outputs": [],
   "source": [
    "g = 'g'"
   ]
  },
  {
   "cell_type": "code",
   "execution_count": 31,
   "id": "355834e0",
   "metadata": {},
   "outputs": [
    {
     "data": {
      "text/plain": [
       "'dog'"
      ]
     },
     "execution_count": 31,
     "metadata": {},
     "output_type": "execute_result"
    }
   ],
   "source": [
    "d + o + g "
   ]
  },
  {
   "cell_type": "markdown",
   "id": "a3279159",
   "metadata": {},
   "source": [
    "## 4.2 Q.10"
   ]
  },
  {
   "cell_type": "code",
   "execution_count": 54,
   "id": "2cf07f56",
   "metadata": {},
   "outputs": [],
   "source": [
    "a = 'hi '"
   ]
  },
  {
   "cell_type": "code",
   "execution_count": 64,
   "id": "9305be5c",
   "metadata": {},
   "outputs": [],
   "source": [
    "b = 'dog, '"
   ]
  },
  {
   "cell_type": "code",
   "execution_count": 65,
   "id": "4ed0b3c6",
   "metadata": {},
   "outputs": [
    {
     "data": {
      "text/plain": [
       "'hi dog, '"
      ]
     },
     "execution_count": 65,
     "metadata": {},
     "output_type": "execute_result"
    }
   ],
   "source": [
    "a + b"
   ]
  },
  {
   "cell_type": "code",
   "execution_count": 63,
   "id": "e5e2c0a1",
   "metadata": {},
   "outputs": [],
   "source": [
    "c = 'what '"
   ]
  },
  {
   "cell_type": "code",
   "execution_count": 36,
   "id": "7c78ce8f",
   "metadata": {},
   "outputs": [],
   "source": [
    "d = 'is '"
   ]
  },
  {
   "cell_type": "code",
   "execution_count": 37,
   "id": "d3960b09",
   "metadata": {},
   "outputs": [],
   "source": [
    "e = 'your '"
   ]
  },
  {
   "cell_type": "code",
   "execution_count": 38,
   "id": "3baecac9",
   "metadata": {},
   "outputs": [],
   "source": [
    "f = 'name?'"
   ]
  },
  {
   "cell_type": "code",
   "execution_count": 68,
   "id": "9b97c7d9",
   "metadata": {},
   "outputs": [
    {
     "data": {
      "text/plain": [
       "'what is your name?'"
      ]
     },
     "execution_count": 68,
     "metadata": {},
     "output_type": "execute_result"
    }
   ],
   "source": [
    "c + d + e + f"
   ]
  },
  {
   "cell_type": "code",
   "execution_count": 66,
   "id": "efc7f95b",
   "metadata": {},
   "outputs": [],
   "source": [
    "Strings = a + b + c + d + e + f"
   ]
  },
  {
   "cell_type": "code",
   "execution_count": 67,
   "id": "04f1be3e",
   "metadata": {},
   "outputs": [
    {
     "name": "stdout",
     "output_type": "stream",
     "text": [
      "hi dog, what is your name?\n"
     ]
    }
   ],
   "source": [
    "print(Strings)"
   ]
  }
 ],
 "metadata": {
  "kernelspec": {
   "display_name": "Python 3 (ipykernel)",
   "language": "python",
   "name": "python3"
  },
  "language_info": {
   "codemirror_mode": {
    "name": "ipython",
    "version": 3
   },
   "file_extension": ".py",
   "mimetype": "text/x-python",
   "name": "python",
   "nbconvert_exporter": "python",
   "pygments_lexer": "ipython3",
   "version": "3.11.5"
  }
 },
 "nbformat": 4,
 "nbformat_minor": 5
}
